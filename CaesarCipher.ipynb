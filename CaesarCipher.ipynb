{
  "nbformat": 4,
  "nbformat_minor": 0,
  "metadata": {
    "colab": {
      "provenance": [],
      "authorship_tag": "ABX9TyOwOvSvABN2k8rHs3WAoHRB",
      "include_colab_link": true
    },
    "kernelspec": {
      "name": "python3",
      "display_name": "Python 3"
    },
    "language_info": {
      "name": "python"
    }
  },
  "cells": [
    {
      "cell_type": "markdown",
      "metadata": {
        "id": "view-in-github",
        "colab_type": "text"
      },
      "source": [
        "<a href=\"https://colab.research.google.com/github/kittysinaga/CaesarCipherCollab/blob/main/CaesarCipher.ipynb\" target=\"_parent\"><img src=\"https://colab.research.google.com/assets/colab-badge.svg\" alt=\"Open In Colab\"/></a>"
      ]
    },
    {
      "cell_type": "code",
      "execution_count": 8,
      "metadata": {
        "colab": {
          "base_uri": "https://localhost:8080/"
        },
        "id": "EkXbiQdLex__",
        "outputId": "9cb7e4fa-3b07-4839-c4bd-574f39eb3f12"
      },
      "outputs": [
        {
          "output_type": "stream",
          "name": "stdout",
          "text": [
            "Please enter the number of places to shift: 45\n",
            "Please enter a value between 0-26\n",
            "Please enter the number of places to shift: 26\n",
            "Please enter a sentence: I love python\n",
            "Your original sentence is:  i love python\n",
            "The encrypted sentence is:  i love python\n"
          ]
        }
      ],
      "source": [
        "while True:\n",
        "    try:\n",
        "        shift=int(input(\"Please enter the number of places to shift: \"))\n",
        "    except ValueError:\n",
        "        print(\"Please enter an integer\")\n",
        "    else:\n",
        "        if 0<=shift<=26:\n",
        "            break\n",
        "        else:\n",
        "            print(\"Please enter a value between 0-26\")\n",
        "\n",
        "dict=[\"a\",\"b\",\"c\",\"d\",\"e\",\"f\",\"g\",\"h\",\"i\",\"j\",\"k\",\"l\",\"m\",\"n\",\"o\",\"p\",\"q\",\"r\",\"s\",\"t\",\"u\",\"v\",\"w\",\"x\",\"y\",\"z\"]\n",
        "new_dict={}\n",
        "x=25-int(shift)\n",
        "for letter in dict:\n",
        "    if dict.index(letter)<=x:\n",
        "        new_dict[letter]=dict[dict.index(letter)+int(shift)]\n",
        "    else:\n",
        "        new_dict[letter]=dict[dict.index(letter)-(x+1)]\n",
        "#print(new_dict)\n",
        "plain_text=input(\"Please enter a sentence: \").lower()\n",
        "print(\"Your original sentence is: \",plain_text)\n",
        "temp_text=[]\n",
        "for letter in plain_text:\n",
        "    if letter in new_dict:\n",
        "        x=new_dict.get(letter)\n",
        "        temp_text.append(x)\n",
        "    else:\n",
        "        temp_text.append(letter)\n",
        "#print(temp_text)\n",
        "enc_text=\"\".join(temp_text)\n",
        "print(\"The encrypted sentence is: \",enc_text)"
      ]
    }
  ]
}